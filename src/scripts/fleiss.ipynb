{
 "cells": [
  {
   "cell_type": "code",
   "execution_count": null,
   "id": "abc81b2b",
   "metadata": {},
   "outputs": [
    {
     "name": "stdout",
     "output_type": "stream",
     "text": [
      "Fleiss' Kappa: 0.8744\n",
      "Interpretacija: Almost perfect agreement\n"
     ]
    }
   ],
   "source": [
    "import pandas as pd\n",
    "import numpy as np\n",
    "import statsmodels.stats.inter_rater as irr\n",
    "\n",
    "file_path = \"xxxxxxx/ocjene.xlsx\"\n",
    "df = pd.read_excel(file_path)\n",
    "\n",
    "ratings_raw = df.to_numpy(dtype=int) \n",
    "ratings, _ = irr.aggregate_raters(ratings_raw)\n",
    "\n",
    "kappa = irr.fleiss_kappa(ratings, method='fleiss')\n",
    "\n",
    "print(f\"Fleiss' Kappa: {kappa:.4f}\")\n",
    "\n",
    "if kappa < 0:\n",
    "    level = \"No agreement\"\n",
    "elif kappa <= 0.20:\n",
    "    level = \"Slight agreement\"\n",
    "elif kappa <= 0.40:\n",
    "    level = \"Fair agreement\"\n",
    "elif kappa <= 0.60:\n",
    "    level = \"Moderate agreement\"\n",
    "elif kappa <= 0.80:\n",
    "    level = \"Substantial agreement\"\n",
    "else:\n",
    "    level = \"Almost perfect agreement\"\n",
    "\n",
    "print(f\"Interpretacija: {level}\")\n"
   ]
  },
  {
   "cell_type": "code",
   "execution_count": null,
   "id": "b5a0c386",
   "metadata": {},
   "outputs": [],
   "source": []
  }
 ],
 "metadata": {
  "kernelspec": {
   "display_name": "Python 3 (ipykernel)",
   "language": "python",
   "name": "python3"
  },
  "language_info": {
   "codemirror_mode": {
    "name": "ipython",
    "version": 3
   },
   "file_extension": ".py",
   "mimetype": "text/x-python",
   "name": "python",
   "nbconvert_exporter": "python",
   "pygments_lexer": "ipython3",
   "version": "3.11.5"
  }
 },
 "nbformat": 4,
 "nbformat_minor": 5
}
