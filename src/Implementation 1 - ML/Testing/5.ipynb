{
  "nbformat": 4,
  "nbformat_minor": 0,
  "metadata": {
    "colab": {
      "provenance": []
    },
    "kernelspec": {
      "name": "python3",
      "display_name": "Python 3"
    },
    "language_info": {
      "name": "python"
    }
  },
  "cells": [
    {
      "cell_type": "code",
      "execution_count": 71,
      "metadata": {
        "id": "R5f8MuKpcrWr"
      },
      "outputs": [],
      "source": [
        "import pandas as pd\n",
        "\n",
        "train1 = pd.read_csv('train-1.csv')\n",
        "train2 = pd.read_csv('train-2.csv')\n",
        "train3 = pd.read_csv('train-3.csv')\n",
        "TRAIN = pd.concat([train1, train2, train3], ignore_index=True)\n",
        "\n",
        "test1 = pd.read_csv('test-1.csv')\n",
        "test2 = pd.read_csv('test-2.csv')\n",
        "test3 = pd.read_csv('test-3.csv')"
      ]
    },
    {
      "cell_type": "code",
      "source": [
        "X_train = TRAIN[\"Sentence\"]\n",
        "y_train = TRAIN[\"Label\"]\n",
        "\n",
        "X_train3 = train3[\"Sentence\"]\n",
        "y_train3 = train3[\"Label\"]\n",
        "\n",
        "X_test1 = test1[\"Sentence\"]\n",
        "y_test1 = test1[\"Label\"]\n",
        "\n",
        "X_test2 = test2[\"Sentence\"]\n",
        "y_test2 = test2[\"Label\"]\n",
        "\n",
        "X_test3 = test3[\"Sentence\"]\n",
        "y_test3 = test3[\"Label\"]"
      ],
      "metadata": {
        "id": "UzIuFjabik2n"
      },
      "execution_count": 72,
      "outputs": []
    },
    {
      "cell_type": "code",
      "source": [
        "from sklearn.feature_extraction.text import TfidfVectorizer\n",
        "\n",
        "vectorizer = TfidfVectorizer()\n",
        "\n",
        "X_train_vec = vectorizer.fit_transform(TRAIN[\"Sentence\"])\n",
        "X_train3_vec = vectorizer.transform(X_train3)\n",
        "\n",
        "X_test1_vec = vectorizer.transform(X_test1)\n",
        "X_test2_vec = vectorizer.transform(X_test2)\n",
        "X_test3_vec = vectorizer.transform(X_test3)"
      ],
      "metadata": {
        "id": "nq6GtTyum0GA"
      },
      "execution_count": 73,
      "outputs": []
    },
    {
      "cell_type": "markdown",
      "source": [
        "1. metoda: SUPPORT VECTOR MACHINES"
      ],
      "metadata": {
        "id": "aiveaHFVnYrT"
      }
    },
    {
      "cell_type": "code",
      "source": [
        "from sklearn.svm import SVC\n",
        "from sklearn.metrics import precision_recall_fscore_support, accuracy_score"
      ],
      "metadata": {
        "id": "udHHxJTOmjFB"
      },
      "execution_count": 74,
      "outputs": []
    },
    {
      "cell_type": "code",
      "source": [
        "#TEST 1 - na TRAIN\n",
        "svm = SVC(kernel='linear', C=1.0, random_state=42)\n",
        "svm.fit(X_train_vec, y_train)\n",
        "\n",
        "y_pred1 = svm.predict(X_test1_vec)\n",
        "precision, recall, f1, _ = precision_recall_fscore_support(y_test1, y_pred1, average=\"weighted\", zero_division=0)\n",
        "accuracy = accuracy_score(y_test1, y_pred1)\n",
        "\n",
        "print(f\"SVM (Test-1, TRAIN): Precision={precision:.3f}, Recall={recall:.3f}, F1={f1:.3f}, Accuracy={accuracy:.3f}\")"
      ],
      "metadata": {
        "colab": {
          "base_uri": "https://localhost:8080/"
        },
        "id": "W7wBZ-QdnmBu",
        "outputId": "2d206b10-dbd6-4580-a550-a8c1fb0b707a"
      },
      "execution_count": 92,
      "outputs": [
        {
          "output_type": "stream",
          "name": "stdout",
          "text": [
            "SVM (Test-1, TRAIN): Precision=0.532, Recall=0.611, F1=0.559, Accuracy=0.611\n"
          ]
        }
      ]
    },
    {
      "cell_type": "code",
      "source": [
        "#TEST 1 - na Train3\n",
        "svm = SVC(kernel='linear', C=1.0, random_state=42)\n",
        "svm.fit(X_train3_vec, y_train3)\n",
        "\n",
        "y_pred1 = svm.predict(X_test1_vec)\n",
        "precision, recall, f1, _ = precision_recall_fscore_support(y_test1, y_pred1, average=\"weighted\", zero_division=0)\n",
        "accuracy = accuracy_score(y_test1, y_pred1)\n",
        "\n",
        "print(f\"SVM (Test-1, Train-3): Precision={precision:.3f}, Recall={recall:.3f}, F1={f1:.3f}, Accuracy={accuracy:.3f}\")"
      ],
      "metadata": {
        "colab": {
          "base_uri": "https://localhost:8080/"
        },
        "id": "9KWMdwT1pK6T",
        "outputId": "6b939705-6e9d-4ad8-8a26-826d551cd5f2"
      },
      "execution_count": 76,
      "outputs": [
        {
          "output_type": "stream",
          "name": "stdout",
          "text": [
            "SVM (Test-1, Train-3): Precision=0.480, Recall=0.568, F1=0.508, Accuracy=0.568\n"
          ]
        }
      ]
    },
    {
      "cell_type": "code",
      "source": [
        "#TEST 2 - na TRAIN\n",
        "svm = SVC(kernel='linear', C=1.0, random_state=42)\n",
        "svm.fit(X_train_vec, y_train)\n",
        "\n",
        "y_pred2 = svm.predict(X_test2_vec)\n",
        "precision, recall, f1, _ = precision_recall_fscore_support(y_test2, y_pred2, average=\"weighted\", zero_division=0)\n",
        "accuracy = accuracy_score(y_test2, y_pred2)\n",
        "\n",
        "print(f\"SVM (Test-2, TRAIN): Precision={precision:.3f}, Recall={recall:.3f}, F1={f1:.3f}, Accuracy={accuracy:.3f}\")"
      ],
      "metadata": {
        "colab": {
          "base_uri": "https://localhost:8080/"
        },
        "id": "eHgVDUjMqo6H",
        "outputId": "39b43551-8735-4563-a323-5a6f34af2668"
      },
      "execution_count": 77,
      "outputs": [
        {
          "output_type": "stream",
          "name": "stdout",
          "text": [
            "SVM (Test-2, TRAIN): Precision=0.594, Recall=0.640, F1=0.588, Accuracy=0.640\n"
          ]
        }
      ]
    },
    {
      "cell_type": "code",
      "source": [
        "#TEST 2 - na Train3\n",
        "svm = SVC(kernel='linear', C=1.0, random_state=42)\n",
        "svm.fit(X_train3_vec, y_train3)\n",
        "\n",
        "y_pred2 = svm.predict(X_test2_vec)\n",
        "precision, recall, f1, _ = precision_recall_fscore_support(y_test2, y_pred2, average=\"weighted\", zero_division=0)\n",
        "accuracy = accuracy_score(y_test2, y_pred2)\n",
        "\n",
        "print(f\"SVM (Test-2, Train-3): Precision={precision:.3f}, Recall={recall:.3f}, F1={f1:.3f}, Accuracy={accuracy:.3f}\")"
      ],
      "metadata": {
        "colab": {
          "base_uri": "https://localhost:8080/"
        },
        "id": "rjZO6crSrxcL",
        "outputId": "92783054-99a9-4cf6-e5ef-5973bb1a8197"
      },
      "execution_count": 78,
      "outputs": [
        {
          "output_type": "stream",
          "name": "stdout",
          "text": [
            "SVM (Test-2, Train-3): Precision=0.552, Recall=0.606, F1=0.542, Accuracy=0.606\n"
          ]
        }
      ]
    },
    {
      "cell_type": "code",
      "source": [
        "#TEST 3 - na TRAIN\n",
        "svm = SVC(kernel='linear', C=1.0, random_state=42)\n",
        "svm.fit(X_train_vec, y_train)\n",
        "\n",
        "y_pred3 = svm.predict(X_test3_vec)\n",
        "precision, recall, f1, _ = precision_recall_fscore_support(y_test3, y_pred3, average=\"weighted\", zero_division=0)\n",
        "accuracy = accuracy_score(y_test3, y_pred3)\n",
        "\n",
        "print(f\"SVM (Test-3, TRAIN): Precision={precision:.3f}, Recall={recall:.3f}, F1={f1:.3f}, Accuracy={accuracy:.3f}\")"
      ],
      "metadata": {
        "colab": {
          "base_uri": "https://localhost:8080/"
        },
        "id": "SzDeM8KesqyC",
        "outputId": "9cdc5ce9-b3fe-45e7-cbb8-29907ae3e1f2"
      },
      "execution_count": 79,
      "outputs": [
        {
          "output_type": "stream",
          "name": "stdout",
          "text": [
            "SVM (Test-3, TRAIN): Precision=0.550, Recall=0.656, F1=0.592, Accuracy=0.656\n"
          ]
        }
      ]
    },
    {
      "cell_type": "code",
      "source": [
        "#TEST 3 - na Train3\n",
        "svm = SVC(kernel='linear', C=1.0, random_state=42)\n",
        "svm.fit(X_train3_vec, y_train3)\n",
        "\n",
        "y_pred3 = svm.predict(X_test3_vec)\n",
        "precision, recall, f1, _ = precision_recall_fscore_support(y_test3, y_pred3, average=\"weighted\", zero_division=0)\n",
        "accuracy = accuracy_score(y_test3, y_pred3)\n",
        "\n",
        "print(f\"SVM (Test-3, Train-3): Precision={precision:.3f}, Recall={recall:.3f}, F1={f1:.3f}, Accuracy={accuracy:.3f}\")"
      ],
      "metadata": {
        "colab": {
          "base_uri": "https://localhost:8080/"
        },
        "id": "jOpf7S4Ks0fd",
        "outputId": "8192b2cb-4bde-4fba-d520-2fd6abecca8b"
      },
      "execution_count": 80,
      "outputs": [
        {
          "output_type": "stream",
          "name": "stdout",
          "text": [
            "SVM (Test-3, Train-3): Precision=0.535, Recall=0.630, F1=0.568, Accuracy=0.630\n"
          ]
        }
      ]
    },
    {
      "cell_type": "markdown",
      "source": [
        "2. metoda: XGBOOST"
      ],
      "metadata": {
        "id": "AzMPVuw9tQk9"
      }
    },
    {
      "cell_type": "code",
      "source": [
        "from xgboost import XGBClassifier"
      ],
      "metadata": {
        "id": "9qyVG6eitV9h"
      },
      "execution_count": 81,
      "outputs": []
    },
    {
      "cell_type": "code",
      "source": [
        "#TEST 1 - na TRAIN\n",
        "xgb = XGBClassifier(n_estimators=100, max_depth=5, random_state=42)\n",
        "xgb.fit(X_train_vec, y_train)\n",
        "\n",
        "y_pred1 = xgb.predict(X_test1_vec)\n",
        "precision, recall, f1, _ = precision_recall_fscore_support(y_test1, y_pred1, average=\"weighted\", zero_division=0)\n",
        "accuracy = accuracy_score(y_test1, y_pred1)\n",
        "\n",
        "print(f\"XGBoost (Test-1, TRAIN): Precision={precision:.3f}, Recall={recall:.3f}, F1={f1:.3f}, Accuracy={accuracy:.3f}\")"
      ],
      "metadata": {
        "colab": {
          "base_uri": "https://localhost:8080/"
        },
        "id": "qxgBX3ZDtcLt",
        "outputId": "eae81a13-23d8-41e6-ea18-6847c6657fd1"
      },
      "execution_count": 95,
      "outputs": [
        {
          "output_type": "stream",
          "name": "stdout",
          "text": [
            "XGBoost (Test-1, TRAIN): Precision=0.515, Recall=0.588, F1=0.534, Accuracy=0.588\n"
          ]
        }
      ]
    },
    {
      "cell_type": "code",
      "source": [
        "#TEST 1 - na Train3\n",
        "xgb = XGBClassifier(n_estimators=100, max_depth=5, random_state=42)\n",
        "xgb.fit(X_train3_vec, y_train3)\n",
        "\n",
        "y_pred1 = xgb.predict(X_test1_vec)\n",
        "precision, recall, f1, _ = precision_recall_fscore_support(y_test1, y_pred1, average=\"weighted\", zero_division=0)\n",
        "accuracy = accuracy_score(y_test1, y_pred1)\n",
        "\n",
        "print(f\"XGBoost (Test-1, Train-3): Precision={precision:.3f}, Recall={recall:.3f}, F1={f1:.3f}, Accuracy={accuracy:.3f}\")"
      ],
      "metadata": {
        "colab": {
          "base_uri": "https://localhost:8080/"
        },
        "id": "olltgu1Hty7y",
        "outputId": "8f69a99a-66fe-4491-a7e1-417ccd299673"
      },
      "execution_count": 83,
      "outputs": [
        {
          "output_type": "stream",
          "name": "stdout",
          "text": [
            "XGBoost (Test-1, Train-3): Precision=0.496, Recall=0.559, F1=0.514, Accuracy=0.559\n"
          ]
        }
      ]
    },
    {
      "cell_type": "code",
      "source": [
        "#TEST 2 - na TRAIN\n",
        "xgb = XGBClassifier(n_estimators=100, max_depth=5, random_state=42)\n",
        "xgb.fit(X_train_vec, y_train)\n",
        "\n",
        "y_pred2 = xgb.predict(X_test2_vec)\n",
        "precision, recall, f1, _ = precision_recall_fscore_support(y_test2, y_pred2, average=\"weighted\", zero_division=0)\n",
        "accuracy = accuracy_score(y_test2, y_pred2)\n",
        "\n",
        "print(f\"XGBoost (Test-2, TRAIN): Precision={precision:.3f}, Recall={recall:.3f}, F1={f1:.3f}, Accuracy={accuracy:.3f}\")"
      ],
      "metadata": {
        "colab": {
          "base_uri": "https://localhost:8080/"
        },
        "id": "4U7HpvGOt33x",
        "outputId": "6c1405f9-9851-476f-8344-df53bf78dafd"
      },
      "execution_count": 84,
      "outputs": [
        {
          "output_type": "stream",
          "name": "stdout",
          "text": [
            "XGBoost (Test-2, TRAIN): Precision=0.561, Recall=0.611, F1=0.557, Accuracy=0.611\n"
          ]
        }
      ]
    },
    {
      "cell_type": "code",
      "source": [
        "#TEST 2 - na Train3\n",
        "xgb = XGBClassifier(n_estimators=100, max_depth=5, random_state=42)\n",
        "xgb.fit(X_train3_vec, y_train3)\n",
        "\n",
        "y_pred2 = xgb.predict(X_test2_vec)\n",
        "precision, recall, f1, _ = precision_recall_fscore_support(y_test2, y_pred2, average=\"weighted\", zero_division=0)\n",
        "accuracy = accuracy_score(y_test2, y_pred2)\n",
        "\n",
        "print(f\"XGBoost (Test-2, Train-3): Precision={precision:.3f}, Recall={recall:.3f}, F1={f1:.3f}, Accuracy={accuracy:.3f}\")"
      ],
      "metadata": {
        "colab": {
          "base_uri": "https://localhost:8080/"
        },
        "id": "_Uv2qYYAt_sE",
        "outputId": "10431049-f7e9-4a0c-9459-75c364ba6cc7"
      },
      "execution_count": 85,
      "outputs": [
        {
          "output_type": "stream",
          "name": "stdout",
          "text": [
            "XGBoost (Test-2, Train-3): Precision=0.514, Recall=0.565, F1=0.516, Accuracy=0.565\n"
          ]
        }
      ]
    },
    {
      "cell_type": "code",
      "source": [
        "#TEST 3 - na TRAIN\n",
        "xgb = XGBClassifier(n_estimators=100, max_depth=5, random_state=42)\n",
        "xgb.fit(X_train_vec, y_train)\n",
        "\n",
        "y_pred3 = xgb.predict(X_test3_vec)\n",
        "precision, recall, f1, _ = precision_recall_fscore_support(y_test3, y_pred3, average=\"weighted\", zero_division=0)\n",
        "accuracy = accuracy_score(y_test3, y_pred3)\n",
        "\n",
        "print(f\"XGBoost (Test-3, TRAIN): Precision={precision:.3f}, Recall={recall:.3f}, F1={f1:.3f}, Accuracy={accuracy:.3f}\")"
      ],
      "metadata": {
        "colab": {
          "base_uri": "https://localhost:8080/"
        },
        "id": "oc6uFNQ-uFxA",
        "outputId": "579764a4-a3b3-4a0e-9ea8-11e5508d1b53"
      },
      "execution_count": 86,
      "outputs": [
        {
          "output_type": "stream",
          "name": "stdout",
          "text": [
            "XGBoost (Test-3, TRAIN): Precision=0.537, Recall=0.659, F1=0.584, Accuracy=0.659\n"
          ]
        }
      ]
    },
    {
      "cell_type": "code",
      "source": [
        "#TEST 3 - na Train3\n",
        "xgb = XGBClassifier(n_estimators=100, max_depth=5, random_state=42)\n",
        "xgb.fit(X_train3_vec, y_train3)\n",
        "\n",
        "y_pred3 = xgb.predict(X_test3_vec)\n",
        "precision, recall, f1, _ = precision_recall_fscore_support(y_test3, y_pred3, average=\"weighted\", zero_division=0)\n",
        "accuracy = accuracy_score(y_test3, y_pred3)\n",
        "\n",
        "print(f\"XGBoost (Test-3, Train-3): Precision={precision:.3f}, Recall={recall:.3f}, F1={f1:.3f}, Accuracy={accuracy:.3f}\")"
      ],
      "metadata": {
        "colab": {
          "base_uri": "https://localhost:8080/"
        },
        "id": "WzAV0KzGuQj5",
        "outputId": "0ead5bde-f023-45f0-e389-77eb7e8a87a7"
      },
      "execution_count": 87,
      "outputs": [
        {
          "output_type": "stream",
          "name": "stdout",
          "text": [
            "XGBoost (Test-3, Train-3): Precision=0.537, Recall=0.623, F1=0.570, Accuracy=0.623\n"
          ]
        }
      ]
    }
  ]
}