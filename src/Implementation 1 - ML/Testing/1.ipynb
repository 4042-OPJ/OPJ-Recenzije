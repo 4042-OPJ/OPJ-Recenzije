{
  "nbformat": 4,
  "nbformat_minor": 0,
  "metadata": {
    "colab": {
      "provenance": []
    },
    "kernelspec": {
      "name": "python3",
      "display_name": "Python 3"
    },
    "language_info": {
      "name": "python"
    }
  },
  "cells": [
    {
      "cell_type": "code",
      "source": [
        "import pandas as pd\n",
        "from sklearn.feature_extraction.text import TfidfVectorizer\n",
        "from sklearn.linear_model import LogisticRegression\n",
        "from sklearn.tree import DecisionTreeClassifier\n",
        "from sklearn.pipeline import Pipeline\n",
        "from sklearn.metrics import classification_report, accuracy_score\n",
        "\n",
        "# Load CSVs\n",
        "train1 = pd.read_csv('train-1.csv')\n",
        "train2 = pd.read_csv('train-2.csv')\n",
        "train3 = pd.read_csv('train-3.csv')\n",
        "TRAIN = pd.concat([train1, train2, train3], ignore_index=True)\n",
        "\n",
        "test1 = pd.read_csv('test-1.csv')\n",
        "test2 = pd.read_csv('test-2.csv')\n",
        "test3 = pd.read_csv('test-3.csv')\n",
        "\n",
        "# Features and labels\n",
        "X_train = TRAIN[\"Sentence\"]\n",
        "y_train = TRAIN[\"Label\"]\n",
        "\n",
        "X_train3 = train3[\"Sentence\"]\n",
        "y_train3 = train3[\"Label\"]\n",
        "\n",
        "X_test1 = test1[\"Sentence\"]\n",
        "y_test1 = test1[\"Label\"]\n",
        "\n",
        "X_test2 = test2[\"Sentence\"]\n",
        "y_test2 = test2[\"Label\"]\n",
        "\n",
        "X_test3 = test3[\"Sentence\"]\n",
        "y_test3 = test3[\"Label\"]"
      ],
      "metadata": {
        "id": "qDZKm4cDyRDl"
      },
      "execution_count": 66,
      "outputs": []
    },
    {
      "cell_type": "code",
      "source": [
        "def evaluate_model(model, X_tests, y_tests, test_names):\n",
        "    results = []\n",
        "    for X_test, y_test, name in zip(X_tests, y_tests, test_names):\n",
        "        y_pred = model.predict(X_test)\n",
        "        report = classification_report(y_test, y_pred, output_dict=True, zero_division=0)\n",
        "        accuracy = accuracy_score(y_test, y_pred)\n",
        "        results.append({\n",
        "            \"Test Set\": name,\n",
        "            \"Precision\": round(report[\"weighted avg\"][\"precision\"], 4),\n",
        "            \"Recall\": round(report[\"weighted avg\"][\"recall\"], 4),\n",
        "            \"F1-Score\": round(report[\"weighted avg\"][\"f1-score\"], 4),\n",
        "            \"Accuracy\": round(accuracy, 4)\n",
        "        })\n",
        "    return results\n",
        "\n",
        "def display_results(model_name, results):\n",
        "    print(f\"\\n=== {model_name} Results ===\")\n",
        "    print(\"| Test Set | Precision | Recall | F1-Score | Accuracy |\")\n",
        "    print(\"|----------|-----------|--------|----------|----------|\")\n",
        "    for r in results:\n",
        "        print(f\"| {r['Test Set']} | {r['Precision']} | {r['Recall']} | {r['F1-Score']} | {r['Accuracy']} |\")\n"
      ],
      "metadata": {
        "id": "at7khfAdySGW"
      },
      "execution_count": 67,
      "outputs": []
    },
    {
      "cell_type": "code",
      "source": [
        "logreg_pipeline = Pipeline([\n",
        "    ('tfidf', TfidfVectorizer()),\n",
        "    ('clf', LogisticRegression(max_iter=1000, random_state=42))\n",
        "])\n",
        "\n",
        "logreg_pipeline.fit(X_train, y_train)\n",
        "logreg_results = evaluate_model(\n",
        "    logreg_pipeline,\n",
        "    [X_test1, X_test2, X_test3],\n",
        "    [y_test1, y_test2, y_test3],\n",
        "    [\"Test-1\", \"Test-2\", \"Test-3\"]\n",
        ")\n",
        "display_results(\"Logistic Regression\", logreg_results)\n"
      ],
      "metadata": {
        "colab": {
          "base_uri": "https://localhost:8080/"
        },
        "id": "JZluCWnMySNU",
        "outputId": "b25ae42f-b768-4759-c405-a5fb854b2101"
      },
      "execution_count": 68,
      "outputs": [
        {
          "output_type": "stream",
          "name": "stdout",
          "text": [
            "\n",
            "=== Logistic Regression Results ===\n",
            "| Test Set | Precision | Recall | F1-Score | Accuracy |\n",
            "|----------|-----------|--------|----------|----------|\n",
            "| Test-1 | 0.4856 | 0.5758 | 0.5088 | 0.5758 |\n",
            "| Test-2 | 0.5755 | 0.6113 | 0.5388 | 0.6113 |\n",
            "| Test-3 | 0.5478 | 0.668 | 0.5913 | 0.668 |\n"
          ]
        }
      ]
    },
    {
      "cell_type": "code",
      "source": [
        "dt_pipeline = Pipeline([\n",
        "    ('tfidf', TfidfVectorizer()),\n",
        "    ('clf', DecisionTreeClassifier(max_depth=10, random_state=42))\n",
        "])\n",
        "\n",
        "dt_pipeline.fit(X_train, y_train)\n",
        "dt_results = evaluate_model(\n",
        "    dt_pipeline,\n",
        "    [X_test1, X_test2, X_test3],\n",
        "    [y_test1, y_test2, y_test3],\n",
        "    [\"Test-1\", \"Test-2\", \"Test-3\"]\n",
        ")\n",
        "display_results(\"Decision Tree\", dt_results)\n"
      ],
      "metadata": {
        "colab": {
          "base_uri": "https://localhost:8080/"
        },
        "id": "c6jNKnyYySS0",
        "outputId": "b334b120-8d1e-478d-fa80-c8edf948cfec"
      },
      "execution_count": 69,
      "outputs": [
        {
          "output_type": "stream",
          "name": "stdout",
          "text": [
            "\n",
            "=== Decision Tree Results ===\n",
            "| Test Set | Precision | Recall | F1-Score | Accuracy |\n",
            "|----------|-----------|--------|----------|----------|\n",
            "| Test-1 | 0.5089 | 0.5697 | 0.4646 | 0.5697 |\n",
            "| Test-2 | 0.5046 | 0.5735 | 0.4674 | 0.5735 |\n",
            "| Test-3 | 0.5284 | 0.646 | 0.5514 | 0.646 |\n"
          ]
        }
      ]
    },
    {
      "cell_type": "code",
      "source": [],
      "metadata": {
        "id": "StfQ0BfSySV5"
      },
      "execution_count": null,
      "outputs": []
    },
    {
      "cell_type": "code",
      "source": [],
      "metadata": {
        "id": "044rV4u6ySYU"
      },
      "execution_count": null,
      "outputs": []
    },
    {
      "cell_type": "code",
      "source": [],
      "metadata": {
        "id": "hSudO2SrySbJ"
      },
      "execution_count": null,
      "outputs": []
    },
    {
      "cell_type": "code",
      "source": [],
      "metadata": {
        "id": "_oA4i5sMySd3"
      },
      "execution_count": null,
      "outputs": []
    }
  ]
}